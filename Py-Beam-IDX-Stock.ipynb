{
 "cells": [
  {
   "cell_type": "markdown",
   "id": "653473a7-4af0-4653-a78d-550330fa8f2e",
   "metadata": {},
   "source": [
    "# Beam IDX Stock App Analysis\n",
    "you may need to install dependencies based on requirements.txt"
   ]
  },
  {
   "cell_type": "code",
   "execution_count": 7,
   "id": "b0c5e88b-e3b7-45b4-898e-362281a9e129",
   "metadata": {},
   "outputs": [],
   "source": [
    "import apache_beam as beam\n",
    "import apache_beam.runners.interactive.interactive_beam as ib\n",
    "from apache_beam.runners.interactive.interactive_runner import InteractiveRunner"
   ]
  },
  {
   "cell_type": "code",
   "execution_count": 3,
   "id": "e515cb50-7e57-40bc-8698-7f98b2930ffa",
   "metadata": {},
   "outputs": [],
   "source": [
    "input_path = 'D:/00 Project/00 My Project/IdeaProjects/Py-Beam-IDX-Stock/Resource/kafka.stock-stream 2023-07-28.json'\n",
    "output_path = './Output/result.csv'\n",
    "with beam.Pipeline(InteractiveRunner()) as pipeline:\n",
    "    beam_df = pipeline | 'Read JSON' >> beam.dataframe.io.read_json(input_path)"
   ]
  },
  {
   "cell_type": "code",
   "execution_count": 6,
   "id": "c95bb7b8-a958-4d0f-8976-ffdaecf0c8ee",
   "metadata": {},
   "outputs": [
    {
     "data": {
      "text/html": [
       "\n",
       "            <link rel=\"stylesheet\" href=\"https://stackpath.bootstrapcdn.com/bootstrap/4.4.1/css/bootstrap.min.css\" integrity=\"sha384-Vkoo8x4CGsO3+Hhxv8T/Q5PaXtkKtu6ug5TOeNV6gBiFeWPGFN9MuhOf23Q9Ifjh\" crossorigin=\"anonymous\">\n",
       "            <div id=\"progress_indicator_f821c5c803ab0b84058ccd4446a6e388\">\n",
       "              <div class=\"spinner-border text-info\" role=\"status\"></div>\n",
       "              <span class=\"text-info\">Processing... collect</span>\n",
       "            </div>\n",
       "            "
      ],
      "text/plain": [
       "<IPython.core.display.HTML object>"
      ]
     },
     "metadata": {},
     "output_type": "display_data"
    },
    {
     "data": {
      "application/javascript": [
       "\n",
       "        if (typeof window.interactive_beam_jquery == 'undefined') {\n",
       "          var jqueryScript = document.createElement('script');\n",
       "          jqueryScript.src = 'https://code.jquery.com/jquery-3.4.1.slim.min.js';\n",
       "          jqueryScript.type = 'text/javascript';\n",
       "          jqueryScript.onload = function() {\n",
       "            var datatableScript = document.createElement('script');\n",
       "            datatableScript.src = 'https://cdn.datatables.net/1.10.20/js/jquery.dataTables.min.js';\n",
       "            datatableScript.type = 'text/javascript';\n",
       "            datatableScript.onload = function() {\n",
       "              window.interactive_beam_jquery = jQuery.noConflict(true);\n",
       "              window.interactive_beam_jquery(document).ready(function($){\n",
       "                \n",
       "            $(\"#progress_indicator_f821c5c803ab0b84058ccd4446a6e388\").remove();\n",
       "              });\n",
       "            }\n",
       "            document.head.appendChild(datatableScript);\n",
       "          };\n",
       "          document.head.appendChild(jqueryScript);\n",
       "        } else {\n",
       "          window.interactive_beam_jquery(document).ready(function($){\n",
       "            \n",
       "            $(\"#progress_indicator_f821c5c803ab0b84058ccd4446a6e388\").remove();\n",
       "          });\n",
       "        }"
      ]
     },
     "metadata": {},
     "output_type": "display_data"
    },
    {
     "data": {
      "text/html": [
       "<div>\n",
       "<style scoped>\n",
       "    .dataframe tbody tr th:only-of-type {\n",
       "        vertical-align: middle;\n",
       "    }\n",
       "\n",
       "    .dataframe tbody tr th {\n",
       "        vertical-align: top;\n",
       "    }\n",
       "\n",
       "    .dataframe thead th {\n",
       "        text-align: right;\n",
       "    }\n",
       "</style>\n",
       "<table border=\"1\" class=\"dataframe\">\n",
       "  <thead>\n",
       "    <tr style=\"text-align: right;\">\n",
       "      <th></th>\n",
       "      <th>idMongo</th>\n",
       "      <th>id</th>\n",
       "      <th>ticker</th>\n",
       "      <th>date</th>\n",
       "      <th>open</th>\n",
       "      <th>high</th>\n",
       "      <th>low</th>\n",
       "      <th>close</th>\n",
       "      <th>volume</th>\n",
       "    </tr>\n",
       "  </thead>\n",
       "  <tbody>\n",
       "    <tr>\n",
       "      <th>0</th>\n",
       "      <td>{'$oid': '64c34706e47be57417d05f4d'}</td>\n",
       "      <td>SLIS_2023-07-28</td>\n",
       "      <td>SLIS</td>\n",
       "      <td>2023-07-28</td>\n",
       "      <td>157.0</td>\n",
       "      <td>164.0</td>\n",
       "      <td>157.0</td>\n",
       "      <td>162.0</td>\n",
       "      <td>349979700</td>\n",
       "    </tr>\n",
       "    <tr>\n",
       "      <th>1</th>\n",
       "      <td>{'$oid': '64c3470be47be57417d0636b'}</td>\n",
       "      <td>NATO_2023-07-28</td>\n",
       "      <td>NATO</td>\n",
       "      <td>2023-07-28</td>\n",
       "      <td>500.0</td>\n",
       "      <td>505.0</td>\n",
       "      <td>488.0</td>\n",
       "      <td>492.0</td>\n",
       "      <td>269934600</td>\n",
       "    </tr>\n",
       "    <tr>\n",
       "      <th>2</th>\n",
       "      <td>{'$oid': '64c3470de47be57417d065aa'}</td>\n",
       "      <td>CARE_2023-07-28</td>\n",
       "      <td>CARE</td>\n",
       "      <td>2023-07-28</td>\n",
       "      <td>535.0</td>\n",
       "      <td>535.0</td>\n",
       "      <td>510.0</td>\n",
       "      <td>515.0</td>\n",
       "      <td>168477100</td>\n",
       "    </tr>\n",
       "    <tr>\n",
       "      <th>3</th>\n",
       "      <td>{'$oid': '64c34715e47be57417d06c4a'}</td>\n",
       "      <td>BOGA_2023-07-28</td>\n",
       "      <td>BOGA</td>\n",
       "      <td>2023-07-28</td>\n",
       "      <td>1235.0</td>\n",
       "      <td>1235.0</td>\n",
       "      <td>1220.0</td>\n",
       "      <td>1225.0</td>\n",
       "      <td>121550200</td>\n",
       "    </tr>\n",
       "    <tr>\n",
       "      <th>4</th>\n",
       "      <td>{'$oid': '64c34717e47be57417d06e14'}</td>\n",
       "      <td>MEDC_2023-07-28</td>\n",
       "      <td>MEDC</td>\n",
       "      <td>2023-07-28</td>\n",
       "      <td>1090.0</td>\n",
       "      <td>1145.0</td>\n",
       "      <td>1070.0</td>\n",
       "      <td>1135.0</td>\n",
       "      <td>68210900</td>\n",
       "    </tr>\n",
       "    <tr>\n",
       "      <th>5</th>\n",
       "      <td>{'$oid': '64c3471ce47be57417d07205'}</td>\n",
       "      <td>EXCL_2023-07-28</td>\n",
       "      <td>EXCL</td>\n",
       "      <td>2023-07-28</td>\n",
       "      <td>2110.0</td>\n",
       "      <td>2210.0</td>\n",
       "      <td>2100.0</td>\n",
       "      <td>2200.0</td>\n",
       "      <td>57073400</td>\n",
       "    </tr>\n",
       "    <tr>\n",
       "      <th>6</th>\n",
       "      <td>{'$oid': '64c34721e47be57417d074ec'}</td>\n",
       "      <td>BMRI_2023-07-28</td>\n",
       "      <td>BMRI</td>\n",
       "      <td>2023-07-28</td>\n",
       "      <td>5625.0</td>\n",
       "      <td>5700.0</td>\n",
       "      <td>5625.0</td>\n",
       "      <td>5675.0</td>\n",
       "      <td>50389800</td>\n",
       "    </tr>\n",
       "    <tr>\n",
       "      <th>7</th>\n",
       "      <td>{'$oid': '64c34724e47be57417d076ed'}</td>\n",
       "      <td>BBRI_2023-07-28</td>\n",
       "      <td>BBRI</td>\n",
       "      <td>2023-07-28</td>\n",
       "      <td>5625.0</td>\n",
       "      <td>5675.0</td>\n",
       "      <td>5625.0</td>\n",
       "      <td>5650.0</td>\n",
       "      <td>32748000</td>\n",
       "    </tr>\n",
       "    <tr>\n",
       "      <th>8</th>\n",
       "      <td>{'$oid': '64c34724e47be57417d0773c'}</td>\n",
       "      <td>TLKM_2023-07-28</td>\n",
       "      <td>TLKM</td>\n",
       "      <td>2023-07-28</td>\n",
       "      <td>3710.0</td>\n",
       "      <td>3750.0</td>\n",
       "      <td>3700.0</td>\n",
       "      <td>3710.0</td>\n",
       "      <td>56518800</td>\n",
       "    </tr>\n",
       "    <tr>\n",
       "      <th>9</th>\n",
       "      <td>{'$oid': '64c3472de47be57417d07c96'}</td>\n",
       "      <td>FILM_2023-07-28</td>\n",
       "      <td>FILM</td>\n",
       "      <td>2023-07-28</td>\n",
       "      <td>3760.0</td>\n",
       "      <td>4020.0</td>\n",
       "      <td>3750.0</td>\n",
       "      <td>4010.0</td>\n",
       "      <td>25551700</td>\n",
       "    </tr>\n",
       "  </tbody>\n",
       "</table>\n",
       "</div>"
      ],
      "text/plain": [
       "                                idMongo               id ticker       date  \\\n",
       "0  {'$oid': '64c34706e47be57417d05f4d'}  SLIS_2023-07-28   SLIS 2023-07-28   \n",
       "1  {'$oid': '64c3470be47be57417d0636b'}  NATO_2023-07-28   NATO 2023-07-28   \n",
       "2  {'$oid': '64c3470de47be57417d065aa'}  CARE_2023-07-28   CARE 2023-07-28   \n",
       "3  {'$oid': '64c34715e47be57417d06c4a'}  BOGA_2023-07-28   BOGA 2023-07-28   \n",
       "4  {'$oid': '64c34717e47be57417d06e14'}  MEDC_2023-07-28   MEDC 2023-07-28   \n",
       "5  {'$oid': '64c3471ce47be57417d07205'}  EXCL_2023-07-28   EXCL 2023-07-28   \n",
       "6  {'$oid': '64c34721e47be57417d074ec'}  BMRI_2023-07-28   BMRI 2023-07-28   \n",
       "7  {'$oid': '64c34724e47be57417d076ed'}  BBRI_2023-07-28   BBRI 2023-07-28   \n",
       "8  {'$oid': '64c34724e47be57417d0773c'}  TLKM_2023-07-28   TLKM 2023-07-28   \n",
       "9  {'$oid': '64c3472de47be57417d07c96'}  FILM_2023-07-28   FILM 2023-07-28   \n",
       "\n",
       "     open    high     low   close     volume  \n",
       "0   157.0   164.0   157.0   162.0  349979700  \n",
       "1   500.0   505.0   488.0   492.0  269934600  \n",
       "2   535.0   535.0   510.0   515.0  168477100  \n",
       "3  1235.0  1235.0  1220.0  1225.0  121550200  \n",
       "4  1090.0  1145.0  1070.0  1135.0   68210900  \n",
       "5  2110.0  2210.0  2100.0  2200.0   57073400  \n",
       "6  5625.0  5700.0  5625.0  5675.0   50389800  \n",
       "7  5625.0  5675.0  5625.0  5650.0   32748000  \n",
       "8  3710.0  3750.0  3700.0  3710.0   56518800  \n",
       "9  3760.0  4020.0  3750.0  4010.0   25551700  "
      ]
     },
     "execution_count": 6,
     "metadata": {},
     "output_type": "execute_result"
    }
   ],
   "source": [
    "# Collect the Beam DataFrame into a Pandas DataFrame.\n",
    "df = ib.collect(beam_df)\n",
    "# We can now use any Pandas transforms with our data.\n",
    "df.head(10)"
   ]
  },
  {
   "cell_type": "code",
   "execution_count": 8,
   "id": "184f6607-7373-4758-9511-d29ff1c4afa9",
   "metadata": {},
   "outputs": [
    {
     "data": {
      "text/html": [
       "\n",
       "            <link rel=\"stylesheet\" href=\"https://stackpath.bootstrapcdn.com/bootstrap/4.4.1/css/bootstrap.min.css\" integrity=\"sha384-Vkoo8x4CGsO3+Hhxv8T/Q5PaXtkKtu6ug5TOeNV6gBiFeWPGFN9MuhOf23Q9Ifjh\" crossorigin=\"anonymous\">\n",
       "            <div id=\"progress_indicator_7887957f6df662efb642fe566fcae0f6\">\n",
       "              <div class=\"spinner-border text-info\" role=\"status\"></div>\n",
       "              <span class=\"text-info\">Processing... collect</span>\n",
       "            </div>\n",
       "            "
      ],
      "text/plain": [
       "<IPython.core.display.HTML object>"
      ]
     },
     "metadata": {},
     "output_type": "display_data"
    },
    {
     "data": {
      "application/javascript": [
       "\n",
       "        if (typeof window.interactive_beam_jquery == 'undefined') {\n",
       "          var jqueryScript = document.createElement('script');\n",
       "          jqueryScript.src = 'https://code.jquery.com/jquery-3.4.1.slim.min.js';\n",
       "          jqueryScript.type = 'text/javascript';\n",
       "          jqueryScript.onload = function() {\n",
       "            var datatableScript = document.createElement('script');\n",
       "            datatableScript.src = 'https://cdn.datatables.net/1.10.20/js/jquery.dataTables.min.js';\n",
       "            datatableScript.type = 'text/javascript';\n",
       "            datatableScript.onload = function() {\n",
       "              window.interactive_beam_jquery = jQuery.noConflict(true);\n",
       "              window.interactive_beam_jquery(document).ready(function($){\n",
       "                \n",
       "            $(\"#progress_indicator_7887957f6df662efb642fe566fcae0f6\").remove();\n",
       "              });\n",
       "            }\n",
       "            document.head.appendChild(datatableScript);\n",
       "          };\n",
       "          document.head.appendChild(jqueryScript);\n",
       "        } else {\n",
       "          window.interactive_beam_jquery(document).ready(function($){\n",
       "            \n",
       "            $(\"#progress_indicator_7887957f6df662efb642fe566fcae0f6\").remove();\n",
       "          });\n",
       "        }"
      ]
     },
     "metadata": {},
     "output_type": "display_data"
    },
    {
     "data": {
      "text/plain": [
       "ticker\n",
       "ADRO    2565.89\n",
       "AKRA    4787.32\n",
       "AMRT    1580.91\n",
       "ARTO     782.15\n",
       "ASII    2871.86\n",
       "BBCA    9150.00\n",
       "BBNI    8850.00\n",
       "BBRI    5650.00\n",
       "BFIN    3610.34\n",
       "BMRI    5675.00\n",
       "Name: close, dtype: float64"
      ]
     },
     "execution_count": 8,
     "metadata": {},
     "output_type": "execute_result"
    }
   ],
   "source": [
    "new_df = beam_df.groupby('ticker').close.sum()\n",
    "# newDf.to_csv(output_path)\n",
    "\n",
    "# Collect the Beam DataFrame into a Pandas DataFrame.\n",
    "df = ib.collect(new_df)\n",
    "# We can now use any Pandas transforms with our data.\n",
    "df.head(10)"
   ]
  },
  {
   "cell_type": "code",
   "execution_count": null,
   "id": "68c91efb-10fb-4ef5-ae96-b46dc98e0e93",
   "metadata": {},
   "outputs": [],
   "source": []
  }
 ],
 "metadata": {
  "kernelspec": {
   "display_name": "Python 3 (ipykernel)",
   "language": "python",
   "name": "python3"
  },
  "language_info": {
   "codemirror_mode": {
    "name": "ipython",
    "version": 3
   },
   "file_extension": ".py",
   "mimetype": "text/x-python",
   "name": "python",
   "nbconvert_exporter": "python",
   "pygments_lexer": "ipython3",
   "version": "3.9.13"
  }
 },
 "nbformat": 4,
 "nbformat_minor": 5
}
